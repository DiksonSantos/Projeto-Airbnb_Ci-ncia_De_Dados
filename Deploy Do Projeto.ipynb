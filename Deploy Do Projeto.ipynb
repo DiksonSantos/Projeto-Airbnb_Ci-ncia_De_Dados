{
 "cells": [
  {
   "cell_type": "code",
   "execution_count": 1,
   "id": "211659ec",
   "metadata": {},
   "outputs": [],
   "source": [
    "import pandas as pd\n",
    "\n",
    "# Para criar resultados exibidos na tela, porém estes possuem botões para interação com usuario.\n",
    "import streamlit as st\n",
    "import joblib\n",
    "\n",
    "import warnings\n",
    "warnings.filterwarnings('ignore')"
   ]
  },
  {
   "cell_type": "code",
   "execution_count": 2,
   "id": "7843911a",
   "metadata": {},
   "outputs": [],
   "source": [
    "modelo = joblib.load('modelo.joblib')"
   ]
  },
  {
   "cell_type": "code",
   "execution_count": 3,
   "id": "7a6dc055",
   "metadata": {},
   "outputs": [
    {
     "name": "stderr",
     "output_type": "stream",
     "text": [
      "2022-02-05 01:53:11.425 \n",
      "  \u001b[33m\u001b[1mWarning:\u001b[0m to view this Streamlit app on a browser, run it with the following\n",
      "  command:\n",
      "\n",
      "    streamlit run /home/dikson/anaconda3/lib/python3.9/site-packages/ipykernel_launcher.py [ARGUMENTS]\n"
     ]
    }
   ],
   "source": [
    "# Este é o print das colunas de 'base_teste.columns'\n",
    "\n",
    "# SEPARAMOS ELAS EM Dicionarios com:\n",
    "\n",
    "# Colunas com Caracteristicas numericas\n",
    "x_numericos = {'latitude': 0, 'longitude': 0, 'accommodates': 0, 'bathrooms': 0, 'bedrooms': 0, 'beds': 0, 'extra_people': 0,\n",
    "               'minimum_nights': 0, 'ano': 0, 'mes': 0, 'n_amenities': 0, 'host_listings_count': 0}\n",
    "# Com, Verdadeiro ou Falso\n",
    "x_tf = {'host_is_superhost': 0, 'instant_bookable': 0}\n",
    "\n",
    "\n",
    "# Com Listas\n",
    "x_listas = {'property_type': ['Apartment', 'Bed and breakfast', 'Condominium', 'Guest suite', 'Guesthouse', 'Hostel', 'House', 'Loft', 'Outros', 'Serviced apartment'],\n",
    "            'room_type': ['Entire home/apt', 'Hotel room', 'Private room', 'Shared room'],\n",
    "            'cancelation_policy': ['flexible', 'moderate', 'strict', 'strict_14_with_grace_period']\n",
    "            }\n",
    "\n",
    "\n",
    "dicionario = {}\n",
    "# ESTE 'FOR' AS 3 CHAVES DO DICIONARIO 'x-listas' com cada um dos itens/valores da\n",
    "#.. lista que compõem os valores destas. \n",
    "for item in x_listas:\n",
    "    # Percorre os valores/Listas das chaves do Dicionario 'x_listas'\n",
    "    for valor in x_listas[item]:\n",
    "        # Recebe e concatena (com '_' ) as 3 chaves com cada um dos itens de suas Listas.\n",
    "        dicionario[f'{item}_{valor}'] = 0\n",
    "\n",
    "        \n",
    "\n",
    "        \n",
    "\n",
    "# Criando botões com campos numericos:\n",
    "for item in x_numericos:\n",
    "    # Criando botão com texto referente a cada um dos itens percorridos, Usando o 'Streamlit'\n",
    "    valor = st.number_input(f'{item}')\n",
    "\n",
    "# Boteos com valores binários (Yes or Not)\n",
    "for item in x_tf:\n",
    "    if valor == 'Sim':\n",
    "        x_tf[item] = 1\n",
    "    else:\n",
    "        x_tf[item] = 0\n",
    "            \n",
    "            \n",
    "    #valor = st.selectbox(f'{item}', ('Sim', 'Não'))\n",
    "\n",
    "# Passando os valores das Chaves do Dicionario como botão de multiplas opções\n",
    "for item in x_listas:\n",
    "    valor = st.selectbox(f'{item}', x_listas[item]) # Mostra valor das chaves.  \n",
    "    # Mesmo tratamento de atribuição binaria feito em 'dicionario'\n",
    "    dicionario[f'{item}_{valor}'] = 1\n",
    "    \n",
    "    \n",
    "botao = st.button(\"Prever Valores Dos Imóveis\")\n",
    "\n",
    "\n",
    "if botao:\n",
    "    # Este metodo junta um dicionario no outro\n",
    "    dicionario.update(x_numericos)\n",
    "    dicionario.update(x_tf)\n",
    "    # É necessário requisitar que o DataFrame seja criado com um Indice usando 'index=[0]'\n",
    "    valores_x = pd.DataFrame(dicionario, index =[0])\n",
    "    # Carrega o metodo estatistico escolhido/usado OU Modelo Usado e salvo no arquivo .joblib\n",
    "    modelo = joblib.load('modelo.joblib')\n",
    "    preco = modelo.predict(valores_x)\n",
    "    #st.write(preco)\n",
    "    st.write(preco[0])\n",
    "                         \n",
    "                         "
   ]
  },
  {
   "cell_type": "code",
   "execution_count": 4,
   "id": "8c0d250d",
   "metadata": {},
   "outputs": [
    {
     "name": "stdout",
     "output_type": "stream",
     "text": [
      "18\n"
     ]
    }
   ],
   "source": [
    "print(len(dicionario))"
   ]
  },
  {
   "cell_type": "markdown",
   "id": "99c73539",
   "metadata": {},
   "source": [
    "##### Para visuzalizar a numeração das linhas, tecle  'Ctrl-m t' e então digite 'L'"
   ]
  },
  {
   "cell_type": "code",
   "execution_count": 5,
   "id": "169a527f",
   "metadata": {},
   "outputs": [
    {
     "name": "stdout",
     "output_type": "stream",
     "text": [
      "property_type_Apartment\t1\n",
      "property_type_Bed and breakfast\t0\n",
      "property_type_Condominium\t0\n",
      "property_type_Guest suite\t0\n",
      "property_type_Guesthouse\t0\n",
      "property_type_Hostel\t0\n",
      "property_type_House\t0\n",
      "property_type_Loft\t0\n",
      "property_type_Outros\t0\n",
      "property_type_Serviced apartment\t0\n",
      "room_type_Entire home/apt\t1\n",
      "room_type_Hotel room\t0\n",
      "room_type_Private room\t0\n",
      "room_type_Shared room\t0\n",
      "cancelation_policy_flexible\t1\n",
      "cancelation_policy_moderate\t0\n",
      "cancelation_policy_strict\t0\n",
      "cancelation_policy_strict_14_with_grace_period\t0\n"
     ]
    }
   ],
   "source": [
    "# Aqui vemos o resultado da combinação das 3 chaves(nomes delas) com seus valores\n",
    "#..contidos nas listas pertencentes a cada um deles (Atribuimos 0 zeros)\n",
    "for x, y in dicionario.items():\n",
    "    print(f'{x}\\t{y}', end='\\n')\n",
    "    #print(y)\n"
   ]
  },
  {
   "cell_type": "code",
   "execution_count": 6,
   "id": "df8b53f1",
   "metadata": {},
   "outputs": [
    {
     "name": "stdout",
     "output_type": "stream",
     "text": [
      "property_type\t['Apartment', 'Bed and breakfast', 'Condominium', 'Guest suite', 'Guesthouse', 'Hostel', 'House', 'Loft', 'Outros', 'Serviced apartment']\n",
      "room_type\t['Entire home/apt', 'Hotel room', 'Private room', 'Shared room']\n",
      "cancelation_policy\t['flexible', 'moderate', 'strict', 'strict_14_with_grace_period']\n"
     ]
    }
   ],
   "source": [
    "for x, y in x_listas.items():\n",
    "    print(f'{x}\\t{y}', end='\\n')\n"
   ]
  },
  {
   "cell_type": "code",
   "execution_count": null,
   "id": "4abeea50",
   "metadata": {},
   "outputs": [],
   "source": []
  }
 ],
 "metadata": {
  "kernelspec": {
   "display_name": "Python 3 (ipykernel)",
   "language": "python",
   "name": "python3"
  },
  "language_info": {
   "codemirror_mode": {
    "name": "ipython",
    "version": 3
   },
   "file_extension": ".py",
   "mimetype": "text/x-python",
   "name": "python",
   "nbconvert_exporter": "python",
   "pygments_lexer": "ipython3",
   "version": "3.9.7"
  }
 },
 "nbformat": 4,
 "nbformat_minor": 5
}
